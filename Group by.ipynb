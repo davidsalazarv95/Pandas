{
 "cells": [
  {
   "cell_type": "markdown",
   "metadata": {},
   "source": [
    "# Group by Operations\n",
    "\n",
    "After loading, merging, and preparing a data set, a familiar task is to compute group statistics or possibly pivot tables for reporting or visualization purposes. pandas provides a flex- ible and high-performance groupby facility, enabling you to slice and dice, and sum- marize data sets in a natural way.\n",
    "\n",
    "After loading, merging, and preparing a data set, a familiar task is to compute group statistics or possibly pivot tables for reporting or visualization purposes. pandas provides a flex- ible and high-performance groupby facility, enabling you to slice and dice, and sum- marize data sets in a natural way.\n",
    "\n",
    "Hadley Wickham, an author of many popular packages for the R programming lan- guage, coined the term split-apply-combine for talking about group operations, and I think that’s a good description of the process. In the first stage of the process, data contained in a pandas object, whether a Series, DataFrame, or otherwise, is split into groups based on one or more keys that you provide. The splitting is performed on a particular axis of an object. For example, a DataFrame can be grouped on its rows (axis=0) or its columns (axis=1). Once this is done, a function is applied to each group, producing a new value. Finally, the results of all those function applications are com- bined into a result object\n",
    "\n",
    "## Split"
   ]
  },
  {
   "cell_type": "code",
   "execution_count": 3,
   "metadata": {},
   "outputs": [
    {
     "data": {
      "text/html": [
       "<div>\n",
       "<table border=\"1\" class=\"dataframe\">\n",
       "  <thead>\n",
       "    <tr style=\"text-align: right;\">\n",
       "      <th></th>\n",
       "      <th>data1</th>\n",
       "      <th>data2</th>\n",
       "      <th>key1</th>\n",
       "      <th>key2</th>\n",
       "    </tr>\n",
       "  </thead>\n",
       "  <tbody>\n",
       "    <tr>\n",
       "      <th>0</th>\n",
       "      <td>1.304037</td>\n",
       "      <td>0.769563</td>\n",
       "      <td>a</td>\n",
       "      <td>one</td>\n",
       "    </tr>\n",
       "    <tr>\n",
       "      <th>1</th>\n",
       "      <td>0.170739</td>\n",
       "      <td>1.491167</td>\n",
       "      <td>a</td>\n",
       "      <td>two</td>\n",
       "    </tr>\n",
       "    <tr>\n",
       "      <th>2</th>\n",
       "      <td>1.105145</td>\n",
       "      <td>-1.906942</td>\n",
       "      <td>b</td>\n",
       "      <td>one</td>\n",
       "    </tr>\n",
       "    <tr>\n",
       "      <th>3</th>\n",
       "      <td>-1.027913</td>\n",
       "      <td>-0.610946</td>\n",
       "      <td>b</td>\n",
       "      <td>two</td>\n",
       "    </tr>\n",
       "    <tr>\n",
       "      <th>4</th>\n",
       "      <td>0.302438</td>\n",
       "      <td>0.528279</td>\n",
       "      <td>a</td>\n",
       "      <td>one</td>\n",
       "    </tr>\n",
       "  </tbody>\n",
       "</table>\n",
       "</div>"
      ],
      "text/plain": [
       "      data1     data2 key1 key2\n",
       "0  1.304037  0.769563    a  one\n",
       "1  0.170739  1.491167    a  two\n",
       "2  1.105145 -1.906942    b  one\n",
       "3 -1.027913 -0.610946    b  two\n",
       "4  0.302438  0.528279    a  one"
      ]
     },
     "execution_count": 3,
     "metadata": {},
     "output_type": "execute_result"
    }
   ],
   "source": [
    "from pandas import Series, DataFrame\n",
    "import pandas as pd\n",
    "import numpy as np\n",
    "df = DataFrame({'key1' : ['a', 'a', 'b', 'b', 'a'],\n",
    "                'key2' : ['one', 'two', 'one', 'two', 'one'],\n",
    "                'data1' : np.random.randn(5), 'data2' : np.random.randn(5)})\n",
    "df"
   ]
  },
  {
   "cell_type": "markdown",
   "metadata": {},
   "source": [
    "The split works with any of the axis. Simply put, you must give the groupby operator something to compute an array that identifies the group for each of the components of the axis belongs. For example, you can group the observations (axis = 0) by the values they take in one or more columns:"
   ]
  },
  {
   "cell_type": "code",
   "execution_count": 5,
   "metadata": {},
   "outputs": [],
   "source": [
    "grouped = df.groupby(['key1', 'key2'])"
   ]
  },
  {
   "cell_type": "code",
   "execution_count": 8,
   "metadata": {},
   "outputs": [
    {
     "name": "stdout",
     "output_type": "stream",
     "text": [
      "a one\n",
      "      data1     data2 key1 key2\n",
      "0  1.304037  0.769563    a  one\n",
      "4  0.302438  0.528279    a  one\n",
      "a two\n",
      "      data1     data2 key1 key2\n",
      "1  0.170739  1.491167    a  two\n",
      "b one\n",
      "      data1     data2 key1 key2\n",
      "2  1.105145 -1.906942    b  one\n",
      "b two\n",
      "      data1     data2 key1 key2\n",
      "3 -1.027913 -0.610946    b  two\n"
     ]
    }
   ],
   "source": [
    "for (x1, x2), group in grouped:\n",
    "    print(x1, x2)\n",
    "    print(group)"
   ]
  },
  {
   "cell_type": "markdown",
   "metadata": {},
   "source": [
    "Of course, you can choose to do whatever you want with the pieces of data. A recipe you may find useful is computing a dict of the data pieces as a one-liner:"
   ]
  },
  {
   "cell_type": "code",
   "execution_count": 10,
   "metadata": {},
   "outputs": [
    {
     "data": {
      "text/html": [
       "<div>\n",
       "<table border=\"1\" class=\"dataframe\">\n",
       "  <thead>\n",
       "    <tr style=\"text-align: right;\">\n",
       "      <th></th>\n",
       "      <th>data1</th>\n",
       "      <th>data2</th>\n",
       "      <th>key1</th>\n",
       "      <th>key2</th>\n",
       "    </tr>\n",
       "  </thead>\n",
       "  <tbody>\n",
       "    <tr>\n",
       "      <th>2</th>\n",
       "      <td>1.105145</td>\n",
       "      <td>-1.906942</td>\n",
       "      <td>b</td>\n",
       "      <td>one</td>\n",
       "    </tr>\n",
       "  </tbody>\n",
       "</table>\n",
       "</div>"
      ],
      "text/plain": [
       "      data1     data2 key1 key2\n",
       "2  1.105145 -1.906942    b  one"
      ]
     },
     "execution_count": 10,
     "metadata": {},
     "output_type": "execute_result"
    }
   ],
   "source": [
    "pieces = dict(list(df.groupby(['key1', 'key2'])))\n",
    "pieces[('b', 'one')]    "
   ]
  },
  {
   "cell_type": "markdown",
   "metadata": {},
   "source": [
    "We can also group by the levels of a hierarchical index:"
   ]
  },
  {
   "cell_type": "code",
   "execution_count": 24,
   "metadata": {},
   "outputs": [
    {
     "data": {
      "text/html": [
       "<div>\n",
       "<table border=\"1\" class=\"dataframe\">\n",
       "  <thead>\n",
       "    <tr style=\"text-align: right;\">\n",
       "      <th></th>\n",
       "      <th></th>\n",
       "      <th>Value</th>\n",
       "    </tr>\n",
       "    <tr>\n",
       "      <th>Index</th>\n",
       "      <th>Date</th>\n",
       "      <th></th>\n",
       "    </tr>\n",
       "  </thead>\n",
       "  <tbody>\n",
       "    <tr>\n",
       "      <th rowspan=\"5\" valign=\"top\">MSFT</th>\n",
       "      <th>2007-01-03</th>\n",
       "      <td>23.478417</td>\n",
       "    </tr>\n",
       "    <tr>\n",
       "      <th>2007-01-04</th>\n",
       "      <td>23.439102</td>\n",
       "    </tr>\n",
       "    <tr>\n",
       "      <th>2007-01-05</th>\n",
       "      <td>23.305433</td>\n",
       "    </tr>\n",
       "    <tr>\n",
       "      <th>2007-01-08</th>\n",
       "      <td>23.533456</td>\n",
       "    </tr>\n",
       "    <tr>\n",
       "      <th>2007-01-09</th>\n",
       "      <td>23.557044</td>\n",
       "    </tr>\n",
       "  </tbody>\n",
       "</table>\n",
       "</div>"
      ],
      "text/plain": [
       "                      Value\n",
       "Index Date                 \n",
       "MSFT  2007-01-03  23.478417\n",
       "      2007-01-04  23.439102\n",
       "      2007-01-05  23.305433\n",
       "      2007-01-08  23.533456\n",
       "      2007-01-09  23.557044"
      ]
     },
     "execution_count": 24,
     "metadata": {},
     "output_type": "execute_result"
    }
   ],
   "source": [
    "import pandas_datareader.data as web\n",
    "end = '2015-01-01'\n",
    "start = '2007-01-01'\n",
    "get_px = lambda x: web.DataReader(x, 'yahoo', start=start, end=end)['Adj Close']\n",
    "symbols = ['SPY','TLT','MSFT']\n",
    "# raw adjusted close prices\n",
    "data = pd.DataFrame({sym:get_px(sym) for sym in symbols})\n",
    "data = data.reset_index()\n",
    "data2 = pd.melt(data, id_vars ='Date',var_name = 'Index', value_name = 'Value')\n",
    "data3 = data2.set_index(['Index', 'Date'])\n",
    "data3.head()"
   ]
  },
  {
   "cell_type": "code",
   "execution_count": 13,
   "metadata": {},
   "outputs": [
    {
     "name": "stdout",
     "output_type": "stream",
     "text": [
      "MSFT\n",
      "SPY\n",
      "TLT\n"
     ]
    }
   ],
   "source": [
    "for name, group in data3.groupby(level= 'Index'):\n",
    "    print(name)"
   ]
  },
  {
   "cell_type": "markdown",
   "metadata": {},
   "source": [
    "We can also group by applying a function to the index and use the resulting array. For example:"
   ]
  },
  {
   "cell_type": "code",
   "execution_count": 26,
   "metadata": {},
   "outputs": [
    {
     "data": {
      "text/html": [
       "<div>\n",
       "<table border=\"1\" class=\"dataframe\">\n",
       "  <thead>\n",
       "    <tr style=\"text-align: right;\">\n",
       "      <th></th>\n",
       "      <th>MSFT</th>\n",
       "      <th>SPY</th>\n",
       "      <th>TLT</th>\n",
       "    </tr>\n",
       "  </thead>\n",
       "  <tbody>\n",
       "    <tr>\n",
       "      <th>2007</th>\n",
       "      <td>24.110418</td>\n",
       "      <td>120.869750</td>\n",
       "      <td>64.303781</td>\n",
       "    </tr>\n",
       "    <tr>\n",
       "      <th>2008</th>\n",
       "      <td>21.393863</td>\n",
       "      <td>101.762682</td>\n",
       "      <td>72.870493</td>\n",
       "    </tr>\n",
       "    <tr>\n",
       "      <th>2009</th>\n",
       "      <td>18.909635</td>\n",
       "      <td>81.340931</td>\n",
       "      <td>77.390758</td>\n",
       "    </tr>\n",
       "    <tr>\n",
       "      <th>2010</th>\n",
       "      <td>22.692035</td>\n",
       "      <td>99.744057</td>\n",
       "      <td>79.427345</td>\n",
       "    </tr>\n",
       "    <tr>\n",
       "      <th>2011</th>\n",
       "      <td>22.371939</td>\n",
       "      <td>113.035932</td>\n",
       "      <td>88.143651</td>\n",
       "    </tr>\n",
       "    <tr>\n",
       "      <th>2012</th>\n",
       "      <td>26.308262</td>\n",
       "      <td>125.637040</td>\n",
       "      <td>107.927967</td>\n",
       "    </tr>\n",
       "    <tr>\n",
       "      <th>2013</th>\n",
       "      <td>29.557505</td>\n",
       "      <td>152.926545</td>\n",
       "      <td>101.144856</td>\n",
       "    </tr>\n",
       "    <tr>\n",
       "      <th>2014</th>\n",
       "      <td>39.738981</td>\n",
       "      <td>183.191441</td>\n",
       "      <td>106.679183</td>\n",
       "    </tr>\n",
       "  </tbody>\n",
       "</table>\n",
       "</div>"
      ],
      "text/plain": [
       "           MSFT         SPY         TLT\n",
       "2007  24.110418  120.869750   64.303781\n",
       "2008  21.393863  101.762682   72.870493\n",
       "2009  18.909635   81.340931   77.390758\n",
       "2010  22.692035   99.744057   79.427345\n",
       "2011  22.371939  113.035932   88.143651\n",
       "2012  26.308262  125.637040  107.927967\n",
       "2013  29.557505  152.926545  101.144856\n",
       "2014  39.738981  183.191441  106.679183"
      ]
     },
     "execution_count": 26,
     "metadata": {},
     "output_type": "execute_result"
    }
   ],
   "source": [
    "data5 = data.set_index('Date')\n",
    "data5.groupby(lambda x: x.year).mean()"
   ]
  },
  {
   "cell_type": "markdown",
   "metadata": {},
   "source": [
    "### Syntactic sugar\n",
    "\n",
    "Most of the time, it's not necessary to take all the columns with you. "
   ]
  },
  {
   "cell_type": "markdown",
   "metadata": {},
   "source": [
    "df.groupby('key1')['data1'] == df['data1'].groupby(df['key1'])"
   ]
  },
  {
   "cell_type": "markdown",
   "metadata": {},
   "source": [
    "## Apply\n",
    "\n",
    "Once you have the data split by groups, the next step is to apply a function to each group.\n",
    "\n",
    "### Aggregate\n",
    "\n",
    "Aggregate functions are the type of functions that take an array and return a scalar. Thus, for each group, these functions will return a scalar. "
   ]
  },
  {
   "cell_type": "code",
   "execution_count": 16,
   "metadata": {},
   "outputs": [
    {
     "data": {
      "text/plain": [
       "Index\n",
       "MSFT     25.633313\n",
       "SPY     122.300760\n",
       "TLT      87.219710\n",
       "Name: Value, dtype: float64"
      ]
     },
     "execution_count": 16,
     "metadata": {},
     "output_type": "execute_result"
    }
   ],
   "source": [
    "data3.groupby(level = 'Index')['Value'].mean() ## Optimized"
   ]
  },
  {
   "cell_type": "code",
   "execution_count": 19,
   "metadata": {},
   "outputs": [
    {
     "data": {
      "text/html": [
       "<div>\n",
       "<table border=\"1\" class=\"dataframe\">\n",
       "  <thead>\n",
       "    <tr style=\"text-align: right;\">\n",
       "      <th></th>\n",
       "      <th>Average</th>\n",
       "      <th>Volatility</th>\n",
       "    </tr>\n",
       "    <tr>\n",
       "      <th>Index</th>\n",
       "      <th></th>\n",
       "      <th></th>\n",
       "    </tr>\n",
       "  </thead>\n",
       "  <tbody>\n",
       "    <tr>\n",
       "      <th>MSFT</th>\n",
       "      <td>0.000478</td>\n",
       "      <td>0.018263</td>\n",
       "    </tr>\n",
       "    <tr>\n",
       "      <th>SPY</th>\n",
       "      <td>0.001165</td>\n",
       "      <td>0.038465</td>\n",
       "    </tr>\n",
       "    <tr>\n",
       "      <th>TLT</th>\n",
       "      <td>0.000027</td>\n",
       "      <td>0.017967</td>\n",
       "    </tr>\n",
       "  </tbody>\n",
       "</table>\n",
       "</div>"
      ],
      "text/plain": [
       "        Average  Volatility\n",
       "Index                      \n",
       "MSFT   0.000478    0.018263\n",
       "SPY    0.001165    0.038465\n",
       "TLT    0.000027    0.017967"
      ]
     },
     "execution_count": 19,
     "metadata": {},
     "output_type": "execute_result"
    }
   ],
   "source": [
    "data3['Returns'] = data3['Value'].pct_change()\n",
    "data3.groupby(level = 'Index')['Returns'].agg([('Average', 'mean'),\n",
    "                                              ('Volatility', 'std')])"
   ]
  },
  {
   "cell_type": "code",
   "execution_count": 20,
   "metadata": {},
   "outputs": [
    {
     "data": {
      "text/html": [
       "<div>\n",
       "<table border=\"1\" class=\"dataframe\">\n",
       "  <thead>\n",
       "    <tr>\n",
       "      <th></th>\n",
       "      <th>Value</th>\n",
       "      <th colspan=\"4\" halign=\"left\">Returns</th>\n",
       "    </tr>\n",
       "    <tr>\n",
       "      <th></th>\n",
       "      <th>mean</th>\n",
       "      <th>min</th>\n",
       "      <th>max</th>\n",
       "      <th>std</th>\n",
       "      <th>mean</th>\n",
       "    </tr>\n",
       "    <tr>\n",
       "      <th>Index</th>\n",
       "      <th></th>\n",
       "      <th></th>\n",
       "      <th></th>\n",
       "      <th></th>\n",
       "      <th></th>\n",
       "    </tr>\n",
       "  </thead>\n",
       "  <tbody>\n",
       "    <tr>\n",
       "      <th>MSFT</th>\n",
       "      <td>25.633313</td>\n",
       "      <td>-0.117131</td>\n",
       "      <td>0.186047</td>\n",
       "      <td>0.018263</td>\n",
       "      <td>0.000478</td>\n",
       "    </tr>\n",
       "    <tr>\n",
       "      <th>SPY</th>\n",
       "      <td>122.300760</td>\n",
       "      <td>-0.098448</td>\n",
       "      <td>1.608635</td>\n",
       "      <td>0.038465</td>\n",
       "      <td>0.001165</td>\n",
       "    </tr>\n",
       "    <tr>\n",
       "      <th>TLT</th>\n",
       "      <td>87.219710</td>\n",
       "      <td>-0.678630</td>\n",
       "      <td>0.051662</td>\n",
       "      <td>0.017967</td>\n",
       "      <td>0.000027</td>\n",
       "    </tr>\n",
       "  </tbody>\n",
       "</table>\n",
       "</div>"
      ],
      "text/plain": [
       "            Value   Returns                              \n",
       "             mean       min       max       std      mean\n",
       "Index                                                    \n",
       "MSFT    25.633313 -0.117131  0.186047  0.018263  0.000478\n",
       "SPY    122.300760 -0.098448  1.608635  0.038465  0.001165\n",
       "TLT     87.219710 -0.678630  0.051662  0.017967  0.000027"
      ]
     },
     "execution_count": 20,
     "metadata": {},
     "output_type": "execute_result"
    }
   ],
   "source": [
    "data3.groupby(level = 'Index').agg({'Returns': ['min', 'max', 'std', 'mean'],\n",
    "                                   'Value': 'mean'}) # Hierarchical columns"
   ]
  },
  {
   "cell_type": "markdown",
   "metadata": {},
   "source": [
    "### Transformations: transform and apply\n",
    "\n",
    "More than simple aggregations on each group. For example, let's say we want to get the last 5 observation for each index. "
   ]
  },
  {
   "cell_type": "code",
   "execution_count": 40,
   "metadata": {},
   "outputs": [
    {
     "data": {
      "text/html": [
       "<div>\n",
       "<table border=\"1\" class=\"dataframe\">\n",
       "  <thead>\n",
       "    <tr style=\"text-align: right;\">\n",
       "      <th></th>\n",
       "      <th></th>\n",
       "      <th></th>\n",
       "      <th>Value</th>\n",
       "    </tr>\n",
       "    <tr>\n",
       "      <th>Index</th>\n",
       "      <th>Index</th>\n",
       "      <th>Date</th>\n",
       "      <th></th>\n",
       "    </tr>\n",
       "  </thead>\n",
       "  <tbody>\n",
       "    <tr>\n",
       "      <th rowspan=\"5\" valign=\"top\">MSFT</th>\n",
       "      <th rowspan=\"5\" valign=\"top\">MSFT</th>\n",
       "      <th>2007-01-03</th>\n",
       "      <td>23.478417</td>\n",
       "    </tr>\n",
       "    <tr>\n",
       "      <th>2007-01-04</th>\n",
       "      <td>23.439102</td>\n",
       "    </tr>\n",
       "    <tr>\n",
       "      <th>2007-01-05</th>\n",
       "      <td>23.305433</td>\n",
       "    </tr>\n",
       "    <tr>\n",
       "      <th>2007-01-08</th>\n",
       "      <td>23.533456</td>\n",
       "    </tr>\n",
       "    <tr>\n",
       "      <th>2007-01-09</th>\n",
       "      <td>23.557044</td>\n",
       "    </tr>\n",
       "    <tr>\n",
       "      <th rowspan=\"5\" valign=\"top\">SPY</th>\n",
       "      <th rowspan=\"5\" valign=\"top\">SPY</th>\n",
       "      <th>2007-01-03</th>\n",
       "      <td>114.809403</td>\n",
       "    </tr>\n",
       "    <tr>\n",
       "      <th>2007-01-04</th>\n",
       "      <td>115.053042</td>\n",
       "    </tr>\n",
       "    <tr>\n",
       "      <th>2007-01-05</th>\n",
       "      <td>114.135342</td>\n",
       "    </tr>\n",
       "    <tr>\n",
       "      <th>2007-01-08</th>\n",
       "      <td>114.663228</td>\n",
       "    </tr>\n",
       "    <tr>\n",
       "      <th>2007-01-09</th>\n",
       "      <td>114.565777</td>\n",
       "    </tr>\n",
       "    <tr>\n",
       "      <th rowspan=\"5\" valign=\"top\">TLT</th>\n",
       "      <th rowspan=\"5\" valign=\"top\">TLT</th>\n",
       "      <th>2007-01-03</th>\n",
       "      <td>63.358304</td>\n",
       "    </tr>\n",
       "    <tr>\n",
       "      <th>2007-01-04</th>\n",
       "      <td>63.742467</td>\n",
       "    </tr>\n",
       "    <tr>\n",
       "      <th>2007-01-05</th>\n",
       "      <td>63.465017</td>\n",
       "    </tr>\n",
       "    <tr>\n",
       "      <th>2007-01-08</th>\n",
       "      <td>63.578846</td>\n",
       "    </tr>\n",
       "    <tr>\n",
       "      <th>2007-01-09</th>\n",
       "      <td>63.578846</td>\n",
       "    </tr>\n",
       "  </tbody>\n",
       "</table>\n",
       "</div>"
      ],
      "text/plain": [
       "                             Value\n",
       "Index Index Date                  \n",
       "MSFT  MSFT  2007-01-03   23.478417\n",
       "            2007-01-04   23.439102\n",
       "            2007-01-05   23.305433\n",
       "            2007-01-08   23.533456\n",
       "            2007-01-09   23.557044\n",
       "SPY   SPY   2007-01-03  114.809403\n",
       "            2007-01-04  115.053042\n",
       "            2007-01-05  114.135342\n",
       "            2007-01-08  114.663228\n",
       "            2007-01-09  114.565777\n",
       "TLT   TLT   2007-01-03   63.358304\n",
       "            2007-01-04   63.742467\n",
       "            2007-01-05   63.465017\n",
       "            2007-01-08   63.578846\n",
       "            2007-01-09   63.578846"
      ]
     },
     "execution_count": 40,
     "metadata": {},
     "output_type": "execute_result"
    }
   ],
   "source": [
    "def top(group):\n",
    "    return group.iloc[:5]\n",
    "data3.groupby(level = 'Index').apply(top).sort_index()"
   ]
  },
  {
   "cell_type": "code",
   "execution_count": 29,
   "metadata": {},
   "outputs": [
    {
     "data": {
      "text/html": [
       "<div>\n",
       "<table border=\"1\" class=\"dataframe\">\n",
       "  <thead>\n",
       "    <tr style=\"text-align: right;\">\n",
       "      <th></th>\n",
       "      <th>category</th>\n",
       "      <th>data</th>\n",
       "      <th>weights</th>\n",
       "    </tr>\n",
       "  </thead>\n",
       "  <tbody>\n",
       "    <tr>\n",
       "      <th>0</th>\n",
       "      <td>a</td>\n",
       "      <td>-1.090777</td>\n",
       "      <td>0.412978</td>\n",
       "    </tr>\n",
       "    <tr>\n",
       "      <th>1</th>\n",
       "      <td>a</td>\n",
       "      <td>0.052670</td>\n",
       "      <td>0.430618</td>\n",
       "    </tr>\n",
       "    <tr>\n",
       "      <th>2</th>\n",
       "      <td>a</td>\n",
       "      <td>-1.015201</td>\n",
       "      <td>0.953990</td>\n",
       "    </tr>\n",
       "    <tr>\n",
       "      <th>3</th>\n",
       "      <td>a</td>\n",
       "      <td>1.882427</td>\n",
       "      <td>0.015759</td>\n",
       "    </tr>\n",
       "    <tr>\n",
       "      <th>4</th>\n",
       "      <td>b</td>\n",
       "      <td>-0.315387</td>\n",
       "      <td>0.128588</td>\n",
       "    </tr>\n",
       "    <tr>\n",
       "      <th>5</th>\n",
       "      <td>b</td>\n",
       "      <td>-0.666118</td>\n",
       "      <td>0.936855</td>\n",
       "    </tr>\n",
       "    <tr>\n",
       "      <th>6</th>\n",
       "      <td>b</td>\n",
       "      <td>-0.614822</td>\n",
       "      <td>0.712233</td>\n",
       "    </tr>\n",
       "    <tr>\n",
       "      <th>7</th>\n",
       "      <td>b</td>\n",
       "      <td>-0.241152</td>\n",
       "      <td>0.388550</td>\n",
       "    </tr>\n",
       "  </tbody>\n",
       "</table>\n",
       "</div>"
      ],
      "text/plain": [
       "  category      data   weights\n",
       "0        a -1.090777  0.412978\n",
       "1        a  0.052670  0.430618\n",
       "2        a -1.015201  0.953990\n",
       "3        a  1.882427  0.015759\n",
       "4        b -0.315387  0.128588\n",
       "5        b -0.666118  0.936855\n",
       "6        b -0.614822  0.712233\n",
       "7        b -0.241152  0.388550"
      ]
     },
     "execution_count": 29,
     "metadata": {},
     "output_type": "execute_result"
    }
   ],
   "source": [
    "df = DataFrame({'category': ['a', 'a', 'a', 'a', 'b', 'b', 'b', 'b'], \n",
    "                'data': np.random.randn(8),'weights': np.random.rand(8)})\n",
    "df"
   ]
  },
  {
   "cell_type": "markdown",
   "metadata": {},
   "source": [
    "Let's compute the annual correlation of the daily returns of the different tickers."
   ]
  },
  {
   "cell_type": "code",
   "execution_count": 30,
   "metadata": {},
   "outputs": [
    {
     "data": {
      "text/plain": [
       "category\n",
       "a   -0.753641\n",
       "b   -0.552208\n",
       "dtype: float64"
      ]
     },
     "execution_count": 30,
     "metadata": {},
     "output_type": "execute_result"
    }
   ],
   "source": [
    "grouped = df.groupby('category').apply(lambda g: np.average(g['data'], weights = g['weights']))\n",
    "grouped"
   ]
  },
  {
   "cell_type": "code",
   "execution_count": 39,
   "metadata": {},
   "outputs": [
    {
     "data": {
      "text/plain": [
       "Index  Date      \n",
       "MSFT   2007-01-03         NaN\n",
       "       2007-01-04   -0.001675\n",
       "       2007-01-05   -0.005703\n",
       "       2007-01-08    0.009784\n",
       "       2007-01-09    0.001002\n",
       "SPY    2007-01-03         NaN\n",
       "       2007-01-04    0.002122\n",
       "       2007-01-05   -0.007976\n",
       "       2007-01-08    0.004625\n",
       "       2007-01-09   -0.000850\n",
       "TLT    2007-01-03         NaN\n",
       "       2007-01-04    0.006063\n",
       "       2007-01-05   -0.004353\n",
       "       2007-01-08    0.001794\n",
       "       2007-01-09    0.000000\n",
       "Name: Value, dtype: float64"
      ]
     },
     "execution_count": 39,
     "metadata": {},
     "output_type": "execute_result"
    }
   ],
   "source": [
    "def ret_aritmetico(group):\n",
    "    return group['Value'].pct_change()\n",
    "data3 = data3.sort_index()\n",
    "data10 = data3.groupby(level = 'Index', group_keys = False).apply(ret_aritmetico)\n",
    "data10.groupby(level = 'Index', group_keys= False).apply(top)"
   ]
  },
  {
   "cell_type": "code",
   "execution_count": 42,
   "metadata": {},
   "outputs": [
    {
     "data": {
      "text/plain": [
       "Index  Date      \n",
       "MSFT   2007-01-04   -0.001675\n",
       "       2007-01-05   -0.005703\n",
       "       2007-01-08    0.009784\n",
       "       2007-01-09    0.001002\n",
       "       2007-01-10   -0.010013\n",
       "Name: Value, dtype: float64"
      ]
     },
     "execution_count": 42,
     "metadata": {},
     "output_type": "execute_result"
    }
   ],
   "source": [
    "data10 = data10.dropna()\n",
    "data10.head()"
   ]
  },
  {
   "cell_type": "code",
   "execution_count": 51,
   "metadata": {},
   "outputs": [
    {
     "data": {
      "text/html": [
       "<div>\n",
       "<table border=\"1\" class=\"dataframe\">\n",
       "  <thead>\n",
       "    <tr style=\"text-align: right;\">\n",
       "      <th>Index</th>\n",
       "      <th>MSFT</th>\n",
       "      <th>SPY</th>\n",
       "      <th>TLT</th>\n",
       "    </tr>\n",
       "    <tr>\n",
       "      <th>Date</th>\n",
       "      <th></th>\n",
       "      <th></th>\n",
       "      <th></th>\n",
       "    </tr>\n",
       "  </thead>\n",
       "  <tbody>\n",
       "    <tr>\n",
       "      <th>2007-01-04</th>\n",
       "      <td>-0.001675</td>\n",
       "      <td>0.002122</td>\n",
       "      <td>0.006063</td>\n",
       "    </tr>\n",
       "    <tr>\n",
       "      <th>2007-01-05</th>\n",
       "      <td>-0.005703</td>\n",
       "      <td>-0.007976</td>\n",
       "      <td>-0.004353</td>\n",
       "    </tr>\n",
       "    <tr>\n",
       "      <th>2007-01-08</th>\n",
       "      <td>0.009784</td>\n",
       "      <td>0.004625</td>\n",
       "      <td>0.001794</td>\n",
       "    </tr>\n",
       "    <tr>\n",
       "      <th>2007-01-09</th>\n",
       "      <td>0.001002</td>\n",
       "      <td>-0.000850</td>\n",
       "      <td>0.000000</td>\n",
       "    </tr>\n",
       "    <tr>\n",
       "      <th>2007-01-10</th>\n",
       "      <td>-0.010013</td>\n",
       "      <td>0.003332</td>\n",
       "      <td>-0.004476</td>\n",
       "    </tr>\n",
       "  </tbody>\n",
       "</table>\n",
       "</div>"
      ],
      "text/plain": [
       "Index           MSFT       SPY       TLT\n",
       "Date                                    \n",
       "2007-01-04 -0.001675  0.002122  0.006063\n",
       "2007-01-05 -0.005703 -0.007976 -0.004353\n",
       "2007-01-08  0.009784  0.004625  0.001794\n",
       "2007-01-09  0.001002 -0.000850  0.000000\n",
       "2007-01-10 -0.010013  0.003332 -0.004476"
      ]
     },
     "execution_count": 51,
     "metadata": {},
     "output_type": "execute_result"
    }
   ],
   "source": [
    "data11 = data10.unstack(0)\n",
    "data11.head()"
   ]
  },
  {
   "cell_type": "code",
   "execution_count": 52,
   "metadata": {},
   "outputs": [
    {
     "data": {
      "text/html": [
       "<div>\n",
       "<table border=\"1\" class=\"dataframe\">\n",
       "  <thead>\n",
       "    <tr style=\"text-align: right;\">\n",
       "      <th>Index</th>\n",
       "      <th>MSFT</th>\n",
       "      <th>SPY</th>\n",
       "      <th>TLT</th>\n",
       "    </tr>\n",
       "  </thead>\n",
       "  <tbody>\n",
       "    <tr>\n",
       "      <th>2007</th>\n",
       "      <td>0.646075</td>\n",
       "      <td>1.0</td>\n",
       "      <td>-0.395089</td>\n",
       "    </tr>\n",
       "    <tr>\n",
       "      <th>2008</th>\n",
       "      <td>0.794946</td>\n",
       "      <td>1.0</td>\n",
       "      <td>-0.483310</td>\n",
       "    </tr>\n",
       "    <tr>\n",
       "      <th>2009</th>\n",
       "      <td>0.649881</td>\n",
       "      <td>1.0</td>\n",
       "      <td>-0.323391</td>\n",
       "    </tr>\n",
       "    <tr>\n",
       "      <th>2010</th>\n",
       "      <td>0.728162</td>\n",
       "      <td>1.0</td>\n",
       "      <td>-0.553058</td>\n",
       "    </tr>\n",
       "    <tr>\n",
       "      <th>2011</th>\n",
       "      <td>0.809871</td>\n",
       "      <td>1.0</td>\n",
       "      <td>-0.708705</td>\n",
       "    </tr>\n",
       "    <tr>\n",
       "      <th>2012</th>\n",
       "      <td>0.685635</td>\n",
       "      <td>1.0</td>\n",
       "      <td>-0.651584</td>\n",
       "    </tr>\n",
       "    <tr>\n",
       "      <th>2013</th>\n",
       "      <td>0.393541</td>\n",
       "      <td>1.0</td>\n",
       "      <td>-0.213911</td>\n",
       "    </tr>\n",
       "    <tr>\n",
       "      <th>2014</th>\n",
       "      <td>0.576128</td>\n",
       "      <td>1.0</td>\n",
       "      <td>-0.460401</td>\n",
       "    </tr>\n",
       "  </tbody>\n",
       "</table>\n",
       "</div>"
      ],
      "text/plain": [
       "Index      MSFT  SPY       TLT\n",
       "2007   0.646075  1.0 -0.395089\n",
       "2008   0.794946  1.0 -0.483310\n",
       "2009   0.649881  1.0 -0.323391\n",
       "2010   0.728162  1.0 -0.553058\n",
       "2011   0.809871  1.0 -0.708705\n",
       "2012   0.685635  1.0 -0.651584\n",
       "2013   0.393541  1.0 -0.213911\n",
       "2014   0.576128  1.0 -0.460401"
      ]
     },
     "execution_count": 52,
     "metadata": {},
     "output_type": "execute_result"
    }
   ],
   "source": [
    "data11.groupby(lambda x: x.year).apply(lambda g: g.corrwith(g['SPY']))"
   ]
  },
  {
   "cell_type": "code",
   "execution_count": null,
   "metadata": {},
   "outputs": [],
   "source": []
  }
 ],
 "metadata": {
  "kernelspec": {
   "display_name": "Python [Root]",
   "language": "python",
   "name": "Python [Root]"
  },
  "language_info": {
   "codemirror_mode": {
    "name": "ipython",
    "version": 3
   },
   "file_extension": ".py",
   "mimetype": "text/x-python",
   "name": "python",
   "nbconvert_exporter": "python",
   "pygments_lexer": "ipython3",
   "version": "3.5.2"
  }
 },
 "nbformat": 4,
 "nbformat_minor": 1
}
